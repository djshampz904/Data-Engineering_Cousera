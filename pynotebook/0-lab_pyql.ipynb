{
 "cells": [
  {
   "cell_type": "code",
   "execution_count": 49,
   "id": "d88de5b2-1c92-478f-901b-cb441358f6ba",
   "metadata": {
    "editable": true,
    "slideshow": {
     "slide_type": ""
    },
    "tags": []
   },
   "outputs": [],
   "source": [
    "import sqlite3"
   ]
  },
  {
   "cell_type": "code",
   "execution_count": 50,
   "id": "b85f0058-92a4-4a01-9474-99db1d86f50f",
   "metadata": {
    "editable": true,
    "slideshow": {
     "slide_type": ""
    },
    "tags": []
   },
   "outputs": [],
   "source": [
    "conn = sqlite3.connect('INSTRUCTOR.db')"
   ]
  },
  {
   "cell_type": "code",
   "execution_count": 51,
   "id": "4207ce07-01fc-44de-b7f8-728277174732",
   "metadata": {},
   "outputs": [],
   "source": [
    "cursor_obj = conn.cursor()"
   ]
  },
  {
   "cell_type": "code",
   "execution_count": 52,
   "id": "09350532-487d-4320-bc26-1716d5284a80",
   "metadata": {},
   "outputs": [
    {
     "ename": "OperationalError",
     "evalue": "database is locked",
     "output_type": "error",
     "traceback": [
      "\u001b[1;31m---------------------------------------------------------------------------\u001b[0m",
      "\u001b[1;31mOperationalError\u001b[0m                          Traceback (most recent call last)",
      "Cell \u001b[1;32mIn[52], line 1\u001b[0m\n\u001b[1;32m----> 1\u001b[0m \u001b[43mcursor_obj\u001b[49m\u001b[38;5;241;43m.\u001b[39;49m\u001b[43mexecute\u001b[49m\u001b[43m(\u001b[49m\u001b[38;5;124;43m'\u001b[39;49m\u001b[38;5;124;43mDROP TABLE IF EXISTS Instructor\u001b[39;49m\u001b[38;5;124;43m'\u001b[39;49m\u001b[43m)\u001b[49m\n",
      "\u001b[1;31mOperationalError\u001b[0m: database is locked"
     ]
    }
   ],
   "source": [
    "cursor_obj.execute('DROP TABLE IF EXISTS Instructor')"
   ]
  },
  {
   "cell_type": "markdown",
   "id": "75549d8b-0c8d-476d-9a29-1dae604a48dc",
   "metadata": {
    "editable": true,
    "slideshow": {
     "slide_type": ""
    },
    "tags": []
   },
   "source": [
    "<h2><i><b>Creating table query</b></i></h2>\n",
    "<p>Create a table query and call it to the cursor and excute it</p>"
   ]
  },
  {
   "cell_type": "code",
   "execution_count": 53,
   "id": "93312f9f-ee10-4792-bfb0-3788f2ce7811",
   "metadata": {
    "editable": true,
    "slideshow": {
     "slide_type": ""
    },
    "tags": []
   },
   "outputs": [
    {
     "name": "stdout",
     "output_type": "stream",
     "text": [
      "Table is ready\n"
     ]
    }
   ],
   "source": [
    "table = \"\"\"CREATE TABLE IF NOT EXISTS Instructor (\n",
    "                    id INTEGER PRIMARY KEY NOT NULL,\n",
    "                    fname VARCHAR(20),\n",
    "                    lname VARCHAR(20),\n",
    "                    city VACHAR(20),\n",
    "                    code CHAR(2)\n",
    "                    )\"\"\"\n",
    "cursor_obj.execute(table)\n",
    "print(\"Table is ready\")"
   ]
  },
  {
   "cell_type": "markdown",
   "id": "e5d522de-16c9-4243-a9f4-2722f3d5864e",
   "metadata": {},
   "source": [
    "<p><b><i>Inserting data into table</i></b></p>"
   ]
  },
  {
   "cell_type": "code",
   "execution_count": 54,
   "id": "60e40490-9ea0-41a8-a3b8-05ad6bafa7a7",
   "metadata": {
    "editable": true,
    "slideshow": {
     "slide_type": ""
    },
    "tags": []
   },
   "outputs": [
    {
     "ename": "OperationalError",
     "evalue": "database is locked",
     "output_type": "error",
     "traceback": [
      "\u001b[1;31m---------------------------------------------------------------------------\u001b[0m",
      "\u001b[1;31mOperationalError\u001b[0m                          Traceback (most recent call last)",
      "Cell \u001b[1;32mIn[54], line 1\u001b[0m\n\u001b[1;32m----> 1\u001b[0m \u001b[43mcursor_obj\u001b[49m\u001b[38;5;241;43m.\u001b[39;49m\u001b[43mexecute\u001b[49m\u001b[43m(\u001b[49m\u001b[38;5;124;43m'''\u001b[39;49m\u001b[38;5;124;43mINSERT INTO Instructor VALUES (2, \u001b[39;49m\u001b[38;5;124;43m'\u001b[39;49m\u001b[38;5;124;43mRaul\u001b[39;49m\u001b[38;5;124;43m'\u001b[39;49m\u001b[38;5;124;43m, \u001b[39;49m\u001b[38;5;124;43m'\u001b[39;49m\u001b[38;5;124;43mChong\u001b[39;49m\u001b[38;5;124;43m'\u001b[39;49m\u001b[38;5;124;43m, \u001b[39;49m\u001b[38;5;124;43m'\u001b[39;49m\u001b[38;5;124;43mMarkham\u001b[39;49m\u001b[38;5;124;43m'\u001b[39;49m\u001b[38;5;124;43m, \u001b[39;49m\u001b[38;5;124;43m'\u001b[39;49m\u001b[38;5;124;43mCA\u001b[39;49m\u001b[38;5;124;43m'\u001b[39;49m\u001b[38;5;124;43m), (3, \u001b[39;49m\u001b[38;5;124;43m'\u001b[39;49m\u001b[38;5;124;43mHima\u001b[39;49m\u001b[38;5;124;43m'\u001b[39;49m\u001b[38;5;124;43m, \u001b[39;49m\u001b[38;5;124;43m'\u001b[39;49m\u001b[38;5;124;43mVasudevan\u001b[39;49m\u001b[38;5;124;43m'\u001b[39;49m\u001b[38;5;124;43m, \u001b[39;49m\u001b[38;5;124;43m'\u001b[39;49m\u001b[38;5;124;43mChicago\u001b[39;49m\u001b[38;5;124;43m'\u001b[39;49m\u001b[38;5;124;43m, \u001b[39;49m\u001b[38;5;124;43m'\u001b[39;49m\u001b[38;5;124;43mUS\u001b[39;49m\u001b[38;5;124;43m'\u001b[39;49m\u001b[38;5;124;43m)\u001b[39;49m\u001b[38;5;124;43m'''\u001b[39;49m\u001b[43m)\u001b[49m\n",
      "\u001b[1;31mOperationalError\u001b[0m: database is locked"
     ]
    }
   ],
   "source": [
    "cursor_obj.execute('''INSERT INTO Instructor VALUES (2, 'Raul', 'Chong', 'Markham', 'CA'), (3, 'Hima', 'Vasudevan', 'Chicago', 'US')''')"
   ]
  },
  {
   "cell_type": "markdown",
   "id": "cf80ab95-216b-456e-a112-df90fe8059c1",
   "metadata": {},
   "source": [
    "<h2><i><b>Query the data</b></i></h2>\n",
    "<p><i>Fetch all data from the table</i></p>"
   ]
  },
  {
   "cell_type": "code",
   "execution_count": null,
   "id": "c8142475-e7b9-49c4-b6f2-c31717e7f7d6",
   "metadata": {},
   "outputs": [],
   "source": [
    "statement = '''SELECT * FROM Instructor'''\n",
    "cursor_obj.execute(statement)\n",
    "\n",
    "print(\"All Data\")\n",
    "output_all = cursor_obj.fetchall()\n",
    "\n",
    "for observation in output_all:\n",
    "    print(observation)"
   ]
  },
  {
   "cell_type": "markdown",
   "id": "7ab7ea32-3dda-4f98-8f6e-9ba09ffae27f",
   "metadata": {},
   "source": [
    "<h2><i><b>Fetch some of the rows</b></i></h2>\n",
    "<p><i>Limiting the number of rows being retrieved</i></p>"
   ]
  },
  {
   "cell_type": "code",
   "execution_count": null,
   "id": "ba53ba48-3b72-440f-b40c-9136eb1dbafe",
   "metadata": {},
   "outputs": [],
   "source": [
    "cursor_obj.execute('''SELECT * FROM Instructor''')\n",
    "output_many = cursor_obj.fetchmany(2)\n",
    "for row_many in output_many:\n",
    "    print(row_many)"
   ]
  },
  {
   "cell_type": "code",
   "execution_count": null,
   "id": "731a20d8-529a-4a49-ad65-e6d00613ce02",
   "metadata": {
    "editable": true,
    "slideshow": {
     "slide_type": ""
    },
    "tags": []
   },
   "outputs": [],
   "source": [
    "#Fetch only fname from the table\n",
    "cursor_obj.execute('''SELECT fname FROM INSTRUCTOR''')\n",
    "print('All the data')\n",
    "output_colum = cursor_obj.fetchall()\n",
    "\n",
    "for col in output_colum:\n",
    "    print(col)\n"
   ]
  },
  {
   "cell_type": "markdown",
   "id": "e4a4a7b9-1676-4f3b-ba0e-428b71ab65b3",
   "metadata": {},
   "source": [
    "<p><i>Update columns in query</i></p>"
   ]
  },
  {
   "cell_type": "code",
   "execution_count": null,
   "id": "c1aa4f0e-3d5a-4f08-9536-16f225c5bab4",
   "metadata": {
    "editable": true,
    "slideshow": {
     "slide_type": ""
    },
    "tags": []
   },
   "outputs": [],
   "source": [
    "query_update = '''UPDATE Instructor SET city = 'MOOSETOWN' WHERE fname=\"Rav\"'''\n",
    "cursor_obj.execute(query_update)\n"
   ]
  },
  {
   "cell_type": "code",
   "execution_count": null,
   "id": "8e722bf0-56c8-4c3b-af6d-0a87937ba7af",
   "metadata": {
    "editable": true,
    "slideshow": {
     "slide_type": ""
    },
    "tags": []
   },
   "outputs": [],
   "source": [
    "cursor_obj.execute('''SELECT * FROM Instructor''')\n",
    "\n",
    "output1 = cursor_obj.fetchall()\n",
    "for item in output1:\n",
    "    print(item)"
   ]
  },
  {
   "cell_type": "code",
   "execution_count": null,
   "id": "c17991e4-580d-4f62-a524-dc43fb28ca19",
   "metadata": {},
   "outputs": [],
   "source": [
    "import pandas as pd"
   ]
  },
  {
   "cell_type": "code",
   "execution_count": null,
   "id": "4f1b2931-7b34-44e0-8807-21bf151ad274",
   "metadata": {
    "editable": true,
    "slideshow": {
     "slide_type": ""
    },
    "tags": []
   },
   "outputs": [],
   "source": [
    "df = pd.read_sql_query(\"SELECT * FROM Instructor;\", conn)\n",
    "df"
   ]
  },
  {
   "cell_type": "code",
   "execution_count": null,
   "id": "e1cbc2ae-4d3a-4bf2-b9cc-fd8a323b4aa0",
   "metadata": {
    "editable": true,
    "slideshow": {
     "slide_type": ""
    },
    "tags": []
   },
   "outputs": [],
   "source": [
    "df.shape"
   ]
  },
  {
   "cell_type": "code",
   "execution_count": null,
   "id": "5f94366a-ab0b-48a6-917c-48f3011a0445",
   "metadata": {},
   "outputs": [],
   "source": [
    "conn.close()"
   ]
  }
 ],
 "metadata": {
  "kernelspec": {
   "display_name": "Python 3 (ipykernel)",
   "language": "python",
   "name": "python3"
  },
  "language_info": {
   "codemirror_mode": {
    "name": "ipython",
    "version": 3
   },
   "file_extension": ".py",
   "mimetype": "text/x-python",
   "name": "python",
   "nbconvert_exporter": "python",
   "pygments_lexer": "ipython3",
   "version": "3.11.1"
  }
 },
 "nbformat": 4,
 "nbformat_minor": 5
}

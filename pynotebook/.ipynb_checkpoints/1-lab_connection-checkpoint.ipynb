{
 "cells": [
  {
   "cell_type": "code",
   "execution_count": 1,
   "id": "859bc3bd-5035-4106-99fc-3da5fb67b100",
   "metadata": {},
   "outputs": [
    {
     "ename": "ImportError",
     "evalue": "DLL load failed while importing ibm_db: The specified module could not be found.",
     "output_type": "error",
     "traceback": [
      "\u001b[1;31m---------------------------------------------------------------------------\u001b[0m",
      "\u001b[1;31mImportError\u001b[0m                               Traceback (most recent call last)",
      "Cell \u001b[1;32mIn[1], line 1\u001b[0m\n\u001b[1;32m----> 1\u001b[0m \u001b[38;5;28;01mimport\u001b[39;00m \u001b[38;5;21;01mibm_db\u001b[39;00m\n",
      "\u001b[1;31mImportError\u001b[0m: DLL load failed while importing ibm_db: The specified module could not be found."
     ]
    }
   ],
   "source": [
    "import ibm_db"
   ]
  },
  {
   "cell_type": "code",
   "execution_count": 19,
   "id": "3f1bfa81-5af6-4f89-a41c-6286c3da643f",
   "metadata": {},
   "outputs": [],
   "source": [
    "dsn_hostname = \"ea286ace-86c7-4d5b-8580-3fbfa46b1c66.bs2io90l08kqb1od8lcg.databases.appdomain.cloud\"\n",
    "dsn_uid = \"dcg82816\"\n",
    "dsn_pwd = \"YjrKvjaW4WQAR9ov\"\n",
    "\n",
    "dsn_driver = \"{IBM DB2 ODBC DRIVE}\"\n",
    "dsn_database = \"bludb\"\n",
    "dsn_port = \"31505\"\n",
    "dsn_protocol = \"TCPIP\"\n",
    "dsn_security = \"SSL\""
   ]
  },
  {
   "cell_type": "code",
   "execution_count": 21,
   "id": "7876c28a-0734-4007-8c40-0d5ec356fae6",
   "metadata": {},
   "outputs": [
    {
     "name": "stdout",
     "output_type": "stream",
     "text": [
      "DRIVER={IBM DB2 ODBC DRIVE};DATABASE=bludb;HOSTNAME=ea286ace-86c7-4d5b-8580-3fbfa46b1c66.bs2io90l08kqb1od8lcg.databases.appdomain.cloud;PORT=31505;PROTOCOL=TCPIP;UID=dcg82816;PWD=YjrKvjaW4WQAR9ov;SECURITY=SSL;\n"
     ]
    }
   ],
   "source": [
    "dsn = (\n",
    "    \"DRIVER={0};\"\n",
    "    \"DATABASE={1};\"\n",
    "    \"HOSTNAME={2};\"\n",
    "    \"PORT={3};\"\n",
    "    \"PROTOCOL={4};\"\n",
    "    \"UID={5};\"\n",
    "    \"PWD={6};\"\n",
    "    \"SECURITY={7};\").format(dsn_driver, dsn_database, dsn_hostname, dsn_port,\n",
    "                            dsn_protocol, dsn_uid, dsn_pwd, dsn_security)\n",
    "\n",
    "print(dsn)"
   ]
  },
  {
   "cell_type": "code",
   "execution_count": 22,
   "id": "980c5923-313e-4e25-9d01-080994bb4f7f",
   "metadata": {},
   "outputs": [
    {
     "ename": "NameError",
     "evalue": "name 'ibm_db' is not defined",
     "output_type": "error",
     "traceback": [
      "\u001b[1;31m---------------------------------------------------------------------------\u001b[0m",
      "\u001b[1;31mNameError\u001b[0m                                 Traceback (most recent call last)",
      "Cell \u001b[1;32mIn[22], line 2\u001b[0m\n\u001b[0;32m      1\u001b[0m \u001b[38;5;28;01mtry\u001b[39;00m:\n\u001b[1;32m----> 2\u001b[0m     conn \u001b[38;5;241m=\u001b[39m \u001b[43mibm_db\u001b[49m\u001b[38;5;241m.\u001b[39mconnect(dsn, \u001b[38;5;124m\"\u001b[39m\u001b[38;5;124m\"\u001b[39m, \u001b[38;5;124m\"\u001b[39m\u001b[38;5;124m\"\u001b[39m)\n\u001b[0;32m      3\u001b[0m     \u001b[38;5;28mprint\u001b[39m (\u001b[38;5;124m\"\u001b[39m\u001b[38;5;124mConnection to database\u001b[39m\u001b[38;5;124m\"\u001b[39m, dsn_database, \u001b[38;5;124m\"\u001b[39m\u001b[38;5;124mas user\u001b[39m\u001b[38;5;124m\"\u001b[39m, dsn_user, \u001b[38;5;124m\"\u001b[39m\u001b[38;5;124mon host\u001b[39m\u001b[38;5;124m\"\u001b[39m, dsn_hostname)\n",
      "\u001b[1;31mNameError\u001b[0m: name 'ibm_db' is not defined",
      "\nDuring handling of the above exception, another exception occurred:\n",
      "\u001b[1;31mNameError\u001b[0m                                 Traceback (most recent call last)",
      "Cell \u001b[1;32mIn[22], line 5\u001b[0m\n\u001b[0;32m      3\u001b[0m     \u001b[38;5;28mprint\u001b[39m (\u001b[38;5;124m\"\u001b[39m\u001b[38;5;124mConnection to database\u001b[39m\u001b[38;5;124m\"\u001b[39m, dsn_database, \u001b[38;5;124m\"\u001b[39m\u001b[38;5;124mas user\u001b[39m\u001b[38;5;124m\"\u001b[39m, dsn_user, \u001b[38;5;124m\"\u001b[39m\u001b[38;5;124mon host\u001b[39m\u001b[38;5;124m\"\u001b[39m, dsn_hostname)\n\u001b[0;32m      4\u001b[0m \u001b[38;5;28;01mexcept\u001b[39;00m:\n\u001b[1;32m----> 5\u001b[0m     \u001b[38;5;28mprint\u001b[39m (\u001b[38;5;124m\"\u001b[39m\u001b[38;5;124mUnable to connect: \u001b[39m\u001b[38;5;124m\"\u001b[39m, \u001b[43mibm_db\u001b[49m\u001b[38;5;241m.\u001b[39mconn_errormsg())\n",
      "\u001b[1;31mNameError\u001b[0m: name 'ibm_db' is not defined"
     ]
    }
   ],
   "source": [
    "try:\n",
    "    conn = ibm_db.connect(dsn, \"\", \"\")\n",
    "    print (\"Connection to database\", dsn_database, \"as user\", dsn_user, \"on host\", dsn_hostname)\n",
    "except:\n",
    "    print (\"Unable to connect: \", ibm_db.conn_errormsg())\n",
    "    "
   ]
  }
 ],
 "metadata": {
  "kernelspec": {
   "display_name": "Python 3 (ipykernel)",
   "language": "python",
   "name": "python3"
  },
  "language_info": {
   "codemirror_mode": {
    "name": "ipython",
    "version": 3
   },
   "file_extension": ".py",
   "mimetype": "text/x-python",
   "name": "python",
   "nbconvert_exporter": "python",
   "pygments_lexer": "ipython3",
   "version": "3.11.1"
  }
 },
 "nbformat": 4,
 "nbformat_minor": 5
}

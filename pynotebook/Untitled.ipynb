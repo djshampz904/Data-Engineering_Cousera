{
 "cells": [
  {
   "cell_type": "code",
   "execution_count": 5,
   "id": "d88de5b2-1c92-478f-901b-cb441358f6ba",
   "metadata": {},
   "outputs": [],
   "source": [
    "import sqlite3"
   ]
  },
  {
   "cell_type": "code",
   "execution_count": 6,
   "id": "b85f0058-92a4-4a01-9474-99db1d86f50f",
   "metadata": {},
   "outputs": [],
   "source": [
    "conn = sqlite3.connect('INSTRUCTOR.db')"
   ]
  },
  {
   "cell_type": "code",
   "execution_count": 7,
   "id": "4207ce07-01fc-44de-b7f8-728277174732",
   "metadata": {},
   "outputs": [],
   "source": [
    "cursor_obj = conn.cursor()"
   ]
  },
  {
   "cell_type": "code",
   "execution_count": 9,
   "id": "09350532-487d-4320-bc26-1716d5284a80",
   "metadata": {},
   "outputs": [
    {
     "data": {
      "text/plain": [
       "<sqlite3.Cursor at 0x21d611aa740>"
      ]
     },
     "execution_count": 9,
     "metadata": {},
     "output_type": "execute_result"
    }
   ],
   "source": [
    "cursor_obj.execute('DROP TABLE IF EXISTS Instructor')"
   ]
  },
  {
   "cell_type": "markdown",
   "id": "75549d8b-0c8d-476d-9a29-1dae604a48dc",
   "metadata": {},
   "source": [
    "<h2><i><b>Creating table query</b></i></h2>\n",
    "<p>Create a table query and call it to the cursor and excute it</p>"
   ]
  },
  {
   "cell_type": "code",
   "execution_count": 10,
   "id": "93312f9f-ee10-4792-bfb0-3788f2ce7811",
   "metadata": {},
   "outputs": [
    {
     "name": "stdout",
     "output_type": "stream",
     "text": [
      "Table is ready\n"
     ]
    }
   ],
   "source": [
    "table = \"\"\"CREATE TABLE IF NOT EXISTS Instructor (\n",
    "                    id INTEGER PRIMARY KEY NOT NULL,\n",
    "                    fname VARCHAR(20),\n",
    "                    lname VARCHAR(20),\n",
    "                    city VACHAR(20),\n",
    "                    code CHAR(2)\n",
    "                    )\"\"\"\n",
    "cursor_obj.execute(table)\n",
    "print(\"Table is ready\")"
   ]
  },
  {
   "cell_type": "markdown",
   "id": "e5d522de-16c9-4243-a9f4-2722f3d5864e",
   "metadata": {},
   "source": [
    "<p><b><i>Inserting data into table</i></b></p>"
   ]
  },
  {
   "cell_type": "code",
   "execution_count": null,
   "id": "54507bec-920c-4437-bfb6-de66b826a316",
   "metadata": {},
   "outputs": [],
   "source": []
  }
 ],
 "metadata": {
  "kernelspec": {
   "display_name": "Python 3 (ipykernel)",
   "language": "python",
   "name": "python3"
  },
  "language_info": {
   "codemirror_mode": {
    "name": "ipython",
    "version": 3
   },
   "file_extension": ".py",
   "mimetype": "text/x-python",
   "name": "python",
   "nbconvert_exporter": "python",
   "pygments_lexer": "ipython3",
   "version": "3.11.1"
  }
 },
 "nbformat": 4,
 "nbformat_minor": 5
}
